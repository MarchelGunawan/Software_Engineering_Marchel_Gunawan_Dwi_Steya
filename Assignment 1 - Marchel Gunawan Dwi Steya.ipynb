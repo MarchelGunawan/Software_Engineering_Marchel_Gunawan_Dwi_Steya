{
 "cells": [
  {
   "cell_type": "code",
   "execution_count": 9,
   "id": "b69580d8",
   "metadata": {},
   "outputs": [
    {
     "name": "stdout",
     "output_type": "stream",
     "text": [
      "1. Ehe te nandayo\n",
      "2. Ba-Ba-Baka\n",
      "3. Enggak tahu lagi\n",
      "Your choice :1\n"
     ]
    }
   ],
   "source": [
    "print(\"1. Ehe te nandayo\")\n",
    "print(\"2. Ba-Ba-Baka\")\n",
    "print(\"3. Enggak tahu lagi\")\n",
    "answer = int(input(\"Your choice :\"))"
   ]
  },
  {
   "cell_type": "code",
   "execution_count": 10,
   "id": "3fb1dccd",
   "metadata": {},
   "outputs": [
    {
     "name": "stdout",
     "output_type": "stream",
     "text": [
      "Ehe te nandayo\n"
     ]
    }
   ],
   "source": [
    "if answer == 1:\n",
    "    print(\"Ehe te nandayo\")\n",
    "elif answer == 2:\n",
    "    print(\"Ba-Ba-Baka\")\n",
    "elif answer == 3:\n",
    "    print(\"Enggak tahu lagi\")\n",
    "else:\n",
    "    print(\"Pilihan ny cuma 1 - 3 mas\")"
   ]
  },
  {
   "cell_type": "code",
   "execution_count": null,
   "id": "373a43b5",
   "metadata": {},
   "outputs": [],
   "source": []
  }
 ],
 "metadata": {
  "kernelspec": {
   "display_name": "Python 3 (ipykernel)",
   "language": "python",
   "name": "python3"
  },
  "language_info": {
   "codemirror_mode": {
    "name": "ipython",
    "version": 3
   },
   "file_extension": ".py",
   "mimetype": "text/x-python",
   "name": "python",
   "nbconvert_exporter": "python",
   "pygments_lexer": "ipython3",
   "version": "3.8.10"
  }
 },
 "nbformat": 4,
 "nbformat_minor": 5
}
