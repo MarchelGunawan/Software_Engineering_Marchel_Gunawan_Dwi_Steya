{
 "cells": [
  {
   "cell_type": "code",
   "execution_count": 12,
   "id": "6a2dd51f",
   "metadata": {},
   "outputs": [],
   "source": [
    "import math as Math"
   ]
  },
  {
   "cell_type": "code",
   "execution_count": 13,
   "id": "34622602",
   "metadata": {},
   "outputs": [],
   "source": [
    "# Contoh penggunaan Variabel\n",
    "a = 10 # Integer\n",
    "b = 3.14 # Float\n",
    "c = \"A\" # String\n",
    "d = 'Marchel' # String\n",
    "e = \"Software Engineer\" # String\n",
    "f = True # Boolean\n",
    "g = [] # Initialize List\n",
    "h = [1,2,3] # List with value \n",
    "i = {} # Dictionary \n",
    "j = () # Tuple"
   ]
  },
  {
   "cell_type": "code",
   "execution_count": 14,
   "id": "00c1aa8a",
   "metadata": {},
   "outputs": [
    {
     "name": "stdout",
     "output_type": "stream",
     "text": [
      "13.14\n",
      "Marchel\n",
      "True\n",
      "[1, 2, 3]\n"
     ]
    }
   ],
   "source": [
    "print(a + b)\n",
    "print(d)\n",
    "print(f)\n",
    "print(h)"
   ]
  },
  {
   "cell_type": "code",
   "execution_count": 15,
   "id": "3e2e32fb",
   "metadata": {},
   "outputs": [
    {
     "name": "stdout",
     "output_type": "stream",
     "text": [
      "Hai namaku adalah Marchel Gunawan\n",
      "Umurku : 19\n",
      "Aku Marchel Gunawan, umur 19, dan tinggal di Bengkulu \n"
     ]
    }
   ],
   "source": [
    "nama = \"Marchel Gunawan\"\n",
    "umur = 19\n",
    "domisili = 'Bengkulu'\n",
    "\n",
    "#Concatination\n",
    "print(\"Hai namaku adalah \" + nama) # Sedikit ribet dalam penggunaan kalimat panjang dan memerlukan konveri tipe data\n",
    "print(\"Umurku : {}\".format(umur))\n",
    "print(\"Aku {}, umur {}, dan tinggal di {} \".format(nama, umur, domisili))"
   ]
  },
  {
   "cell_type": "code",
   "execution_count": 16,
   "id": "723665fe",
   "metadata": {},
   "outputs": [
    {
     "name": "stdout",
     "output_type": "stream",
     "text": [
      "Marchel\n"
     ]
    }
   ],
   "source": [
    "# Input User\n",
    "nama = input()"
   ]
  },
  {
   "cell_type": "code",
   "execution_count": 17,
   "id": "0a0a5a3c",
   "metadata": {},
   "outputs": [
    {
     "data": {
      "text/plain": [
       "3.1622776601683795"
      ]
     },
     "execution_count": 17,
     "metadata": {},
     "output_type": "execute_result"
    }
   ],
   "source": [
    "# Condition - if else\n",
    "a = 10\n",
    "b = 10\n",
    "## Conditional Statement\n",
    "a == b # Jika nilai a sama dengan b\n",
    "a != b # Jika nilai a tidak sama dengan b\n",
    "a < b\n",
    "a <= b\n",
    "a > b\n",
    "a >= b\n",
    "True and True \n",
    "True or False\n",
    "\n",
    "## Operator\n",
    "a + b\n",
    "a - b\n",
    "a * b\n",
    "a / b # Float division = 1.0\n",
    "a // b # Int division = 1\n",
    "a ** b # Square\n",
    "a % b # Modulo\n",
    "a ** (1/2) # SQRT tanpa built-in\n",
    "Math.sqrt(a) # SQRT dengan import math"
   ]
  },
  {
   "cell_type": "code",
   "execution_count": 18,
   "id": "a34e6c6f",
   "metadata": {},
   "outputs": [
    {
     "name": "stdout",
     "output_type": "stream",
     "text": [
      "Nilai a sama dengan 10\n",
      "Outner of if statement\n"
     ]
    }
   ],
   "source": [
    "# Menggunakan indentasi\n",
    "# Harus memiliki konteks yang sama antara if dan elif\n",
    "if a == 10:\n",
    "  print(\"Nilai a sama dengan 10\") \n",
    "elif a > 10:\n",
    "  print(\"Nilai a lebih besar dari 10\")\n",
    "else:\n",
    "  print(\"Nilai a kurang dari 10\")\n",
    "print(\"Outner of if statement\")"
   ]
  },
  {
   "cell_type": "code",
   "execution_count": null,
   "id": "81e1291c",
   "metadata": {},
   "outputs": [],
   "source": []
  }
 ],
 "metadata": {
  "kernelspec": {
   "display_name": "Python 3 (ipykernel)",
   "language": "python",
   "name": "python3"
  },
  "language_info": {
   "codemirror_mode": {
    "name": "ipython",
    "version": 3
   },
   "file_extension": ".py",
   "mimetype": "text/x-python",
   "name": "python",
   "nbconvert_exporter": "python",
   "pygments_lexer": "ipython3",
   "version": "3.8.10"
  }
 },
 "nbformat": 4,
 "nbformat_minor": 5
}
